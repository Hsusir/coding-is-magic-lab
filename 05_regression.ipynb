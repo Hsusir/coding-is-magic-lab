{
 "cells": [
  {
   "cell_type": "code",
   "execution_count": 1,
   "metadata": {},
   "outputs": [
    {
     "name": "stderr",
     "output_type": "stream",
     "text": [
      "/Users/mosky/.local/share/virtualenvs/practicing-python-3-WB-t2u1E/lib/python3.6/site-packages/statsmodels/compat/pandas.py:56: FutureWarning: The pandas.core.datetools module is deprecated and will be removed in a future version. Please use the pandas.tseries module instead.\n",
      "  from pandas.core import datetools\n"
     ]
    }
   ],
   "source": [
    "%matplotlib inline\n",
    "import statsmodels.api as sm\n",
    "import statsmodels.formula.api as smf"
   ]
  },
  {
   "cell_type": "code",
   "execution_count": 2,
   "metadata": {},
   "outputs": [],
   "source": [
    "fair_df = sm.datasets.fair.load_pandas().data"
   ]
  },
  {
   "cell_type": "code",
   "execution_count": 3,
   "metadata": {},
   "outputs": [
    {
     "data": {
      "text/html": [
       "<table class=\"simpletable\">\n",
       "<caption>OLS Regression Results</caption>\n",
       "<tr>\n",
       "  <th>Dep. Variable:</th>         <td>affairs</td>     <th>  R-squared:         </th> <td>   0.048</td> \n",
       "</tr>\n",
       "<tr>\n",
       "  <th>Model:</th>                   <td>OLS</td>       <th>  Adj. R-squared:    </th> <td>   0.048</td> \n",
       "</tr>\n",
       "<tr>\n",
       "  <th>Method:</th>             <td>Least Squares</td>  <th>  F-statistic:       </th> <td>   107.8</td> \n",
       "</tr>\n",
       "<tr>\n",
       "  <th>Date:</th>             <td>Tue, 09 Oct 2018</td> <th>  Prob (F-statistic):</th> <td>4.55e-68</td> \n",
       "</tr>\n",
       "<tr>\n",
       "  <th>Time:</th>                 <td>11:53:08</td>     <th>  Log-Likelihood:    </th> <td> -13904.</td> \n",
       "</tr>\n",
       "<tr>\n",
       "  <th>No. Observations:</th>      <td>  6366</td>      <th>  AIC:               </th> <td>2.782e+04</td>\n",
       "</tr>\n",
       "<tr>\n",
       "  <th>Df Residuals:</th>          <td>  6362</td>      <th>  BIC:               </th> <td>2.784e+04</td>\n",
       "</tr>\n",
       "<tr>\n",
       "  <th>Df Model:</th>              <td>     3</td>      <th>                     </th>     <td> </td>    \n",
       "</tr>\n",
       "<tr>\n",
       "  <th>Covariance Type:</th>      <td>nonrobust</td>    <th>                     </th>     <td> </td>    \n",
       "</tr>\n",
       "</table>\n",
       "<table class=\"simpletable\">\n",
       "<tr>\n",
       "             <td></td>                <th>coef</th>     <th>std err</th>      <th>t</th>      <th>P>|t|</th>  <th>[0.025</th>    <th>0.975]</th>  \n",
       "</tr>\n",
       "<tr>\n",
       "  <th>Intercept</th>               <td>    4.6495</td> <td>    0.347</td> <td>   13.395</td> <td> 0.000</td> <td>    3.969</td> <td>    5.330</td>\n",
       "</tr>\n",
       "<tr>\n",
       "  <th>rate_marriage</th>           <td>   -0.7891</td> <td>    0.082</td> <td>   -9.622</td> <td> 0.000</td> <td>   -0.950</td> <td>   -0.628</td>\n",
       "</tr>\n",
       "<tr>\n",
       "  <th>religious</th>               <td>   -0.9846</td> <td>    0.138</td> <td>   -7.122</td> <td> 0.000</td> <td>   -1.256</td> <td>   -0.714</td>\n",
       "</tr>\n",
       "<tr>\n",
       "  <th>rate_marriage:religious</th> <td>    0.1681</td> <td>    0.032</td> <td>    5.209</td> <td> 0.000</td> <td>    0.105</td> <td>    0.231</td>\n",
       "</tr>\n",
       "</table>\n",
       "<table class=\"simpletable\">\n",
       "<tr>\n",
       "  <th>Omnibus:</th>       <td>9399.882</td> <th>  Durbin-Watson:     </th>  <td>   1.615</td>  \n",
       "</tr>\n",
       "<tr>\n",
       "  <th>Prob(Omnibus):</th>  <td> 0.000</td>  <th>  Jarque-Bera (JB):  </th> <td>5196635.028</td>\n",
       "</tr>\n",
       "<tr>\n",
       "  <th>Skew:</th>           <td> 8.843</td>  <th>  Prob(JB):          </th>  <td>    0.00</td>  \n",
       "</tr>\n",
       "<tr>\n",
       "  <th>Kurtosis:</th>       <td>141.848</td> <th>  Cond. No.          </th>  <td>    170.</td>  \n",
       "</tr>\n",
       "</table>"
      ],
      "text/plain": [
       "<class 'statsmodels.iolib.summary.Summary'>\n",
       "\"\"\"\n",
       "                            OLS Regression Results                            \n",
       "==============================================================================\n",
       "Dep. Variable:                affairs   R-squared:                       0.048\n",
       "Model:                            OLS   Adj. R-squared:                  0.048\n",
       "Method:                 Least Squares   F-statistic:                     107.8\n",
       "Date:                Tue, 09 Oct 2018   Prob (F-statistic):           4.55e-68\n",
       "Time:                        11:53:08   Log-Likelihood:                -13904.\n",
       "No. Observations:                6366   AIC:                         2.782e+04\n",
       "Df Residuals:                    6362   BIC:                         2.784e+04\n",
       "Df Model:                           3                                         \n",
       "Covariance Type:            nonrobust                                         \n",
       "===========================================================================================\n",
       "                              coef    std err          t      P>|t|      [0.025      0.975]\n",
       "-------------------------------------------------------------------------------------------\n",
       "Intercept                   4.6495      0.347     13.395      0.000       3.969       5.330\n",
       "rate_marriage              -0.7891      0.082     -9.622      0.000      -0.950      -0.628\n",
       "religious                  -0.9846      0.138     -7.122      0.000      -1.256      -0.714\n",
       "rate_marriage:religious     0.1681      0.032      5.209      0.000       0.105       0.231\n",
       "==============================================================================\n",
       "Omnibus:                     9399.882   Durbin-Watson:                   1.615\n",
       "Prob(Omnibus):                  0.000   Jarque-Bera (JB):          5196635.028\n",
       "Skew:                           8.843   Prob(JB):                         0.00\n",
       "Kurtosis:                     141.848   Cond. No.                         170.\n",
       "==============================================================================\n",
       "\n",
       "Warnings:\n",
       "[1] Standard Errors assume that the covariance matrix of the errors is correctly specified.\n",
       "\"\"\""
      ]
     },
     "execution_count": 3,
     "metadata": {},
     "output_type": "execute_result"
    }
   ],
   "source": [
    "smf.ols('affairs ~ rate_marriage * religious', fair_df).fit().summary()"
   ]
  }
 ],
 "metadata": {
  "kernelspec": {
   "display_name": "Python 3 (practicing-python-3)",
   "language": "python",
   "name": "python3-practicing-python-3"
  },
  "language_info": {
   "codemirror_mode": {
    "name": "ipython",
    "version": 3
   },
   "file_extension": ".py",
   "mimetype": "text/x-python",
   "name": "python",
   "nbconvert_exporter": "python",
   "pygments_lexer": "ipython3",
   "version": "3.6.5"
  },
  "toc": {
   "nav_menu": {},
   "number_sections": true,
   "sideBar": true,
   "skip_h1_title": true,
   "toc_cell": false,
   "toc_position": {},
   "toc_section_display": "block",
   "toc_window_display": false
  }
 },
 "nbformat": 4,
 "nbformat_minor": 2
}
